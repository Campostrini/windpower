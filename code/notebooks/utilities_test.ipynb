{
 "cells": [
  {
   "cell_type": "code",
   "execution_count": 14,
   "metadata": {},
   "outputs": [],
   "source": [
    "from utilities import prepare_arguments_for_lru_cache\n",
    "from functools import lru_cache\n",
    "import time"
   ]
  },
  {
   "cell_type": "code",
   "execution_count": 15,
   "metadata": {},
   "outputs": [],
   "source": [
    "@lru_cache(maxsize=3)\n",
    "def foo1(*args):\n",
    "    time.sleep(1)\n",
    "    print(\"foo1\", args)\n",
    "    return args\n",
    "\n",
    "@prepare_arguments_for_lru_cache\n",
    "@lru_cache(maxsize=3)\n",
    "def foo2(*args):\n",
    "    time.sleep(1)\n",
    "    print(\"foo2\", args)\n",
    "    return args"
   ]
  },
  {
   "cell_type": "code",
   "execution_count": 16,
   "metadata": {},
   "outputs": [],
   "source": [
    "hashable_args_list = [(1,), (2,), (3,), (1,), (2,), (1,), (2,)]\n",
    "unhashable_args = [list(i) for i in hashable_args_list]"
   ]
  },
  {
   "cell_type": "code",
   "execution_count": 19,
   "metadata": {},
   "outputs": [
    {
     "name": "stdout",
     "output_type": "stream",
     "text": [
      "((1,),)\n",
      "foo1 ((2,),)\n",
      "((2,),)\n",
      "foo1 ((3,),)\n",
      "((3,),)\n",
      "((1,),)\n",
      "((2,),)\n",
      "((1,),)\n",
      "((2,),)\n",
      "---\n",
      "((1,),)\n",
      "((2,),)\n",
      "((3,),)\n",
      "((1,),)\n",
      "((2,),)\n",
      "((1,),)\n",
      "((2,),)\n",
      "---\n"
     ]
    },
    {
     "ename": "KeyboardInterrupt",
     "evalue": "",
     "output_type": "error",
     "traceback": [
      "\u001b[0;31m---------------------------------------------------------------------------\u001b[0m",
      "\u001b[0;31mKeyboardInterrupt\u001b[0m                         Traceback (most recent call last)",
      "Cell \u001b[0;32mIn[19], line 11\u001b[0m\n\u001b[1;32m      9\u001b[0m foo1\u001b[39m.\u001b[39mcache_clear()\n\u001b[1;32m     10\u001b[0m \u001b[39mfor\u001b[39;00m i \u001b[39min\u001b[39;00m hashable_args_list:\n\u001b[0;32m---> 11\u001b[0m     \u001b[39mprint\u001b[39m(foo1(i))\n\u001b[1;32m     12\u001b[0m \u001b[39mprint\u001b[39m(\u001b[39m\"\u001b[39m\u001b[39m---\u001b[39m\u001b[39m\"\u001b[39m)\n\u001b[1;32m     13\u001b[0m \u001b[39mfor\u001b[39;00m i \u001b[39min\u001b[39;00m unhashable_args:\n",
      "Cell \u001b[0;32mIn[15], line 3\u001b[0m, in \u001b[0;36mfoo1\u001b[0;34m(*args)\u001b[0m\n\u001b[1;32m      1\u001b[0m \u001b[39m@lru_cache\u001b[39m(maxsize\u001b[39m=\u001b[39m\u001b[39m3\u001b[39m)\n\u001b[1;32m      2\u001b[0m \u001b[39mdef\u001b[39;00m \u001b[39mfoo1\u001b[39m(\u001b[39m*\u001b[39margs):\n\u001b[0;32m----> 3\u001b[0m     time\u001b[39m.\u001b[39msleep(\u001b[39m1\u001b[39m)\n\u001b[1;32m      4\u001b[0m     \u001b[39mprint\u001b[39m(\u001b[39m\"\u001b[39m\u001b[39mfoo1\u001b[39m\u001b[39m\"\u001b[39m, args)\n\u001b[1;32m      5\u001b[0m     \u001b[39mreturn\u001b[39;00m args\n",
      "\u001b[0;31mKeyboardInterrupt\u001b[0m: "
     ]
    }
   ],
   "source": [
    "for i in hashable_args_list:\n",
    "    print(foo1(i))\n",
    "# again\n",
    "print(\"---\")\n",
    "for i in hashable_args_list:\n",
    "    print(foo1(i))\n",
    "# reset cache\n",
    "print(\"---\")\n",
    "foo1.cache_clear()\n",
    "for i in hashable_args_list:\n",
    "    print(foo1(i))\n",
    "print(\"---\")\n",
    "for i in unhashable_args:\n",
    "    print(foo1(i))"
   ]
  },
  {
   "cell_type": "code",
   "execution_count": 20,
   "metadata": {},
   "outputs": [
    {
     "name": "stdout",
     "output_type": "stream",
     "text": [
      "foo2 ((1,),)\n",
      "((1,),)\n",
      "foo2 ((2,),)\n",
      "((2,),)\n",
      "foo2 ((3,),)\n",
      "((3,),)\n",
      "((1,),)\n",
      "((2,),)\n",
      "((1,),)\n",
      "((2,),)\n",
      "((1,),)\n",
      "((2,),)\n",
      "((3,),)\n",
      "((1,),)\n",
      "((2,),)\n",
      "((1,),)\n",
      "((2,),)\n"
     ]
    }
   ],
   "source": [
    "for i in hashable_args_list:\n",
    "    print(foo2(i))\n",
    "for i in unhashable_args:\n",
    "    print(foo2(i))"
   ]
  }
 ],
 "metadata": {
  "kernelspec": {
   "display_name": "wp",
   "language": "python",
   "name": "python3"
  },
  "language_info": {
   "codemirror_mode": {
    "name": "ipython",
    "version": 3
   },
   "file_extension": ".py",
   "mimetype": "text/x-python",
   "name": "python",
   "nbconvert_exporter": "python",
   "pygments_lexer": "ipython3",
   "version": "3.11.3"
  },
  "orig_nbformat": 4
 },
 "nbformat": 4,
 "nbformat_minor": 2
}
